{
 "cells": [
  {
   "cell_type": "code",
   "execution_count": 4,
   "metadata": {},
   "outputs": [],
   "source": [
    "## import the necessary packages \n",
    "import numpy as np \n",
    "import pandas as pd \n",
    "from matplotlib import pyplot as plt \n",
    "import seaborn as sns \n",
    "sns.set()"
   ]
  },
  {
   "cell_type": "code",
   "execution_count": 5,
   "metadata": {},
   "outputs": [],
   "source": [
    "## load in the data \n",
    "data = pd.read_csv(\"la-riots-deaths.csv\")"
   ]
  },
  {
   "cell_type": "code",
   "execution_count": 6,
   "metadata": {},
   "outputs": [
    {
     "data": {
      "text/html": [
       "<div>\n",
       "<style scoped>\n",
       "    .dataframe tbody tr th:only-of-type {\n",
       "        vertical-align: middle;\n",
       "    }\n",
       "\n",
       "    .dataframe tbody tr th {\n",
       "        vertical-align: top;\n",
       "    }\n",
       "\n",
       "    .dataframe thead th {\n",
       "        text-align: right;\n",
       "    }\n",
       "</style>\n",
       "<table border=\"1\" class=\"dataframe\">\n",
       "  <thead>\n",
       "    <tr style=\"text-align: right;\">\n",
       "      <th></th>\n",
       "      <th>first</th>\n",
       "      <th>last</th>\n",
       "      <th>Full Name</th>\n",
       "      <th>Solved*</th>\n",
       "      <th>Age</th>\n",
       "      <th>Gender</th>\n",
       "      <th>Race</th>\n",
       "      <th>Date</th>\n",
       "      <th>Address</th>\n",
       "      <th>Neighborhood</th>\n",
       "      <th>status</th>\n",
       "      <th>lat</th>\n",
       "      <th>lon</th>\n",
       "      <th>Map Description</th>\n",
       "      <th>Story</th>\n",
       "      <th>URL</th>\n",
       "    </tr>\n",
       "  </thead>\n",
       "  <tbody>\n",
       "    <tr>\n",
       "      <td>0</td>\n",
       "      <td>Cesar A.</td>\n",
       "      <td>Aguilar</td>\n",
       "      <td>Cesar A. Aguilar</td>\n",
       "      <td>NaN</td>\n",
       "      <td>18</td>\n",
       "      <td>Male</td>\n",
       "      <td>Latino</td>\n",
       "      <td>1992-04-30</td>\n",
       "      <td>2009 W. 6th St.</td>\n",
       "      <td>Westlake</td>\n",
       "      <td>Officer involved shooting</td>\n",
       "      <td>-118.273976</td>\n",
       "      <td>34.059281</td>\n",
       "      <td>Cesar Aguilar, an 18-year-old Latino, was shot...</td>\n",
       "      <td>Cesar Aguilar, an 18-year-old Latino, was shot...</td>\n",
       "      <td>http://articles.latimes.com/print/1992-06-21/n...</td>\n",
       "    </tr>\n",
       "    <tr>\n",
       "      <td>1</td>\n",
       "      <td>George</td>\n",
       "      <td>Alvarez</td>\n",
       "      <td>George Alvarez</td>\n",
       "      <td>NaN</td>\n",
       "      <td>42</td>\n",
       "      <td>Male</td>\n",
       "      <td>Latino</td>\n",
       "      <td>1992-05-01</td>\n",
       "      <td>Main &amp; College streets</td>\n",
       "      <td>Chinatown</td>\n",
       "      <td>Not riot-related</td>\n",
       "      <td>-118.234098</td>\n",
       "      <td>34.062690</td>\n",
       "      <td>George Alvarez, a 42-year-old Latino, died Fri...</td>\n",
       "      <td>George Alvarez, a 42-year-old Latino, died Fri...</td>\n",
       "      <td>NaN</td>\n",
       "    </tr>\n",
       "    <tr>\n",
       "      <td>2</td>\n",
       "      <td>Wilson</td>\n",
       "      <td>Alvarez</td>\n",
       "      <td>Wilson  Alvarez</td>\n",
       "      <td>Unsolved</td>\n",
       "      <td>40</td>\n",
       "      <td>Male</td>\n",
       "      <td>Latino</td>\n",
       "      <td>1992-05-23</td>\n",
       "      <td>3100 Rosecrans Ave.</td>\n",
       "      <td>Hawthorne</td>\n",
       "      <td>Homicide</td>\n",
       "      <td>-118.326816</td>\n",
       "      <td>33.901662</td>\n",
       "      <td>Wilson Alvarez, a 40-year-old Latino, died of ...</td>\n",
       "      <td>Wilson Alvarez, a 40-year-old Latino, died of ...</td>\n",
       "      <td>NaN</td>\n",
       "    </tr>\n",
       "    <tr>\n",
       "      <td>3</td>\n",
       "      <td>Brian E.</td>\n",
       "      <td>Andrew</td>\n",
       "      <td>Brian E. Andrew</td>\n",
       "      <td>NaN</td>\n",
       "      <td>30</td>\n",
       "      <td>Male</td>\n",
       "      <td>Black</td>\n",
       "      <td>1992-04-30</td>\n",
       "      <td>Rosecrans &amp; Chester avenues</td>\n",
       "      <td>Compton</td>\n",
       "      <td>Officer involved shooting</td>\n",
       "      <td>-118.215390</td>\n",
       "      <td>33.903457</td>\n",
       "      <td>Brian E. Andrew, a 30-year-old black man, was ...</td>\n",
       "      <td>Brian E. Andrew, a 30-year-old black man, was ...</td>\n",
       "      <td>http://articles.latimes.com/print/1992-05-24/n...</td>\n",
       "    </tr>\n",
       "    <tr>\n",
       "      <td>4</td>\n",
       "      <td>Vivian</td>\n",
       "      <td>Austin</td>\n",
       "      <td>Vivian  Austin</td>\n",
       "      <td>NaN</td>\n",
       "      <td>87</td>\n",
       "      <td>Female</td>\n",
       "      <td>Black</td>\n",
       "      <td>5/3/1992</td>\n",
       "      <td>1600 W. 60th St.</td>\n",
       "      <td>Harvard Park</td>\n",
       "      <td>Death</td>\n",
       "      <td>-118.304741</td>\n",
       "      <td>33.985667</td>\n",
       "      <td>Vivian Austin, an 87-year-old black woman, die...</td>\n",
       "      <td>Vivian Austin, an 87-year-old black woman, die...</td>\n",
       "      <td>NaN</td>\n",
       "    </tr>\n",
       "  </tbody>\n",
       "</table>\n",
       "</div>"
      ],
      "text/plain": [
       "      first     last         Full Name   Solved* Age  Gender     Race  \\\n",
       "0  Cesar A.  Aguilar  Cesar A. Aguilar       NaN  18    Male   Latino   \n",
       "1    George  Alvarez    George Alvarez       NaN  42    Male   Latino   \n",
       "2   Wilson   Alvarez   Wilson  Alvarez  Unsolved  40    Male   Latino   \n",
       "3  Brian E.   Andrew   Brian E. Andrew       NaN  30    Male    Black   \n",
       "4   Vivian    Austin    Vivian  Austin       NaN  87  Female    Black   \n",
       "\n",
       "          Date                       Address  Neighborhood  \\\n",
       "0   1992-04-30               2009 W. 6th St.      Westlake   \n",
       "1   1992-05-01        Main & College streets     Chinatown   \n",
       "2   1992-05-23           3100 Rosecrans Ave.     Hawthorne   \n",
       "3   1992-04-30   Rosecrans & Chester avenues       Compton   \n",
       "4     5/3/1992              1600 W. 60th St.  Harvard Park   \n",
       "\n",
       "                      status         lat        lon  \\\n",
       "0  Officer involved shooting -118.273976  34.059281   \n",
       "1           Not riot-related -118.234098  34.062690   \n",
       "2                   Homicide -118.326816  33.901662   \n",
       "3  Officer involved shooting -118.215390  33.903457   \n",
       "4                      Death -118.304741  33.985667   \n",
       "\n",
       "                                     Map Description  \\\n",
       "0  Cesar Aguilar, an 18-year-old Latino, was shot...   \n",
       "1  George Alvarez, a 42-year-old Latino, died Fri...   \n",
       "2  Wilson Alvarez, a 40-year-old Latino, died of ...   \n",
       "3  Brian E. Andrew, a 30-year-old black man, was ...   \n",
       "4  Vivian Austin, an 87-year-old black woman, die...   \n",
       "\n",
       "                                               Story  \\\n",
       "0  Cesar Aguilar, an 18-year-old Latino, was shot...   \n",
       "1  George Alvarez, a 42-year-old Latino, died Fri...   \n",
       "2  Wilson Alvarez, a 40-year-old Latino, died of ...   \n",
       "3  Brian E. Andrew, a 30-year-old black man, was ...   \n",
       "4  Vivian Austin, an 87-year-old black woman, die...   \n",
       "\n",
       "                                                 URL  \n",
       "0  http://articles.latimes.com/print/1992-06-21/n...  \n",
       "1                                                NaN  \n",
       "2                                                NaN  \n",
       "3  http://articles.latimes.com/print/1992-05-24/n...  \n",
       "4                                                NaN  "
      ]
     },
     "execution_count": 6,
     "metadata": {},
     "output_type": "execute_result"
    }
   ],
   "source": [
    "## check whats in the data\n",
    "data.head()"
   ]
  },
  {
   "cell_type": "code",
   "execution_count": 7,
   "metadata": {},
   "outputs": [
    {
     "name": "stdout",
     "output_type": "stream",
     "text": [
      "<class 'pandas.core.frame.DataFrame'>\n",
      "RangeIndex: 63 entries, 0 to 62\n",
      "Data columns (total 16 columns):\n",
      "first              63 non-null object\n",
      "last               63 non-null object\n",
      "Full Name          63 non-null object\n",
      "Solved*            36 non-null object\n",
      "Age                63 non-null object\n",
      "Gender             63 non-null object\n",
      "Race               63 non-null object\n",
      "Date               63 non-null object\n",
      "Address            63 non-null object\n",
      "Neighborhood       63 non-null object\n",
      "status             63 non-null object\n",
      "lat                62 non-null float64\n",
      "lon                62 non-null float64\n",
      "Map Description    63 non-null object\n",
      "Story              63 non-null object\n",
      "URL                28 non-null object\n",
      "dtypes: float64(2), object(14)\n",
      "memory usage: 8.0+ KB\n"
     ]
    }
   ],
   "source": [
    "data.info()"
   ]
  },
  {
   "cell_type": "code",
   "execution_count": 8,
   "metadata": {},
   "outputs": [
    {
     "data": {
      "text/plain": [
       "first               0\n",
       "last                0\n",
       "Full Name           0\n",
       "Solved*            27\n",
       "Age                 0\n",
       "Gender              0\n",
       "Race                0\n",
       "Date                0\n",
       "Address             0\n",
       "Neighborhood        0\n",
       "status              0\n",
       "lat                 1\n",
       "lon                 1\n",
       "Map Description     0\n",
       "Story               0\n",
       "URL                35\n",
       "dtype: int64"
      ]
     },
     "execution_count": 8,
     "metadata": {},
     "output_type": "execute_result"
    }
   ],
   "source": [
    "## checking for missing values \n",
    "data.isnull().sum()"
   ]
  },
  {
   "cell_type": "markdown",
   "metadata": {},
   "source": [
    "from here the missing value in the URL column does not really matter , but we have a problem in the solved* column due to some factors of missing data or it was not recorded.   "
   ]
  },
  {
   "cell_type": "code",
   "execution_count": 15,
   "metadata": {},
   "outputs": [],
   "source": [
    "## we have to fill the missing values \n",
    "data[\"Solved*\"].fillna((\"Unsolved\"), inplace = True)"
   ]
  },
  {
   "cell_type": "code",
   "execution_count": 17,
   "metadata": {},
   "outputs": [],
   "source": [
    "## fill null values for lat and lon \n",
    "data[\"lat\"].fillna((data[\"lat\"].mean()), inplace = True)\n",
    "data[\"lon\"].fillna((data[\"lon\"].mean()), inplace = True)"
   ]
  },
  {
   "cell_type": "code",
   "execution_count": 19,
   "metadata": {},
   "outputs": [],
   "source": [
    "## drop the url column \n",
    "data.drop(\"URL\", axis = 1, inplace = True)"
   ]
  },
  {
   "cell_type": "code",
   "execution_count": 20,
   "metadata": {},
   "outputs": [
    {
     "data": {
      "text/plain": [
       "first              0\n",
       "last               0\n",
       "Full Name          0\n",
       "Solved*            0\n",
       "Age                0\n",
       "Gender             0\n",
       "Race               0\n",
       "Date               0\n",
       "Address            0\n",
       "Neighborhood       0\n",
       "status             0\n",
       "lat                0\n",
       "lon                0\n",
       "Map Description    0\n",
       "Story              0\n",
       "dtype: int64"
      ]
     },
     "execution_count": 20,
     "metadata": {},
     "output_type": "execute_result"
    }
   ],
   "source": [
    "## we check for comfirmation to see if our code is correct \n",
    "data.isnull().sum()"
   ]
  },
  {
   "cell_type": "code",
   "execution_count": 21,
   "metadata": {},
   "outputs": [
    {
     "data": {
      "text/html": [
       "<div>\n",
       "<style scoped>\n",
       "    .dataframe tbody tr th:only-of-type {\n",
       "        vertical-align: middle;\n",
       "    }\n",
       "\n",
       "    .dataframe tbody tr th {\n",
       "        vertical-align: top;\n",
       "    }\n",
       "\n",
       "    .dataframe thead th {\n",
       "        text-align: right;\n",
       "    }\n",
       "</style>\n",
       "<table border=\"1\" class=\"dataframe\">\n",
       "  <thead>\n",
       "    <tr style=\"text-align: right;\">\n",
       "      <th></th>\n",
       "      <th>first</th>\n",
       "      <th>last</th>\n",
       "      <th>Full Name</th>\n",
       "      <th>Solved*</th>\n",
       "      <th>Age</th>\n",
       "      <th>Gender</th>\n",
       "      <th>Race</th>\n",
       "      <th>Date</th>\n",
       "      <th>Address</th>\n",
       "      <th>Neighborhood</th>\n",
       "      <th>status</th>\n",
       "      <th>lat</th>\n",
       "      <th>lon</th>\n",
       "      <th>Map Description</th>\n",
       "      <th>Story</th>\n",
       "    </tr>\n",
       "  </thead>\n",
       "  <tbody>\n",
       "    <tr>\n",
       "      <td>0</td>\n",
       "      <td>Cesar A.</td>\n",
       "      <td>Aguilar</td>\n",
       "      <td>Cesar A. Aguilar</td>\n",
       "      <td>Unsolved</td>\n",
       "      <td>18</td>\n",
       "      <td>Male</td>\n",
       "      <td>Latino</td>\n",
       "      <td>1992-04-30</td>\n",
       "      <td>2009 W. 6th St.</td>\n",
       "      <td>Westlake</td>\n",
       "      <td>Officer involved shooting</td>\n",
       "      <td>-118.273976</td>\n",
       "      <td>34.059281</td>\n",
       "      <td>Cesar Aguilar, an 18-year-old Latino, was shot...</td>\n",
       "      <td>Cesar Aguilar, an 18-year-old Latino, was shot...</td>\n",
       "    </tr>\n",
       "    <tr>\n",
       "      <td>1</td>\n",
       "      <td>George</td>\n",
       "      <td>Alvarez</td>\n",
       "      <td>George Alvarez</td>\n",
       "      <td>Unsolved</td>\n",
       "      <td>42</td>\n",
       "      <td>Male</td>\n",
       "      <td>Latino</td>\n",
       "      <td>1992-05-01</td>\n",
       "      <td>Main &amp; College streets</td>\n",
       "      <td>Chinatown</td>\n",
       "      <td>Not riot-related</td>\n",
       "      <td>-118.234098</td>\n",
       "      <td>34.062690</td>\n",
       "      <td>George Alvarez, a 42-year-old Latino, died Fri...</td>\n",
       "      <td>George Alvarez, a 42-year-old Latino, died Fri...</td>\n",
       "    </tr>\n",
       "    <tr>\n",
       "      <td>2</td>\n",
       "      <td>Wilson</td>\n",
       "      <td>Alvarez</td>\n",
       "      <td>Wilson  Alvarez</td>\n",
       "      <td>Unsolved</td>\n",
       "      <td>40</td>\n",
       "      <td>Male</td>\n",
       "      <td>Latino</td>\n",
       "      <td>1992-05-23</td>\n",
       "      <td>3100 Rosecrans Ave.</td>\n",
       "      <td>Hawthorne</td>\n",
       "      <td>Homicide</td>\n",
       "      <td>-118.326816</td>\n",
       "      <td>33.901662</td>\n",
       "      <td>Wilson Alvarez, a 40-year-old Latino, died of ...</td>\n",
       "      <td>Wilson Alvarez, a 40-year-old Latino, died of ...</td>\n",
       "    </tr>\n",
       "    <tr>\n",
       "      <td>3</td>\n",
       "      <td>Brian E.</td>\n",
       "      <td>Andrew</td>\n",
       "      <td>Brian E. Andrew</td>\n",
       "      <td>Unsolved</td>\n",
       "      <td>30</td>\n",
       "      <td>Male</td>\n",
       "      <td>Black</td>\n",
       "      <td>1992-04-30</td>\n",
       "      <td>Rosecrans &amp; Chester avenues</td>\n",
       "      <td>Compton</td>\n",
       "      <td>Officer involved shooting</td>\n",
       "      <td>-118.215390</td>\n",
       "      <td>33.903457</td>\n",
       "      <td>Brian E. Andrew, a 30-year-old black man, was ...</td>\n",
       "      <td>Brian E. Andrew, a 30-year-old black man, was ...</td>\n",
       "    </tr>\n",
       "    <tr>\n",
       "      <td>4</td>\n",
       "      <td>Vivian</td>\n",
       "      <td>Austin</td>\n",
       "      <td>Vivian  Austin</td>\n",
       "      <td>Unsolved</td>\n",
       "      <td>87</td>\n",
       "      <td>Female</td>\n",
       "      <td>Black</td>\n",
       "      <td>5/3/1992</td>\n",
       "      <td>1600 W. 60th St.</td>\n",
       "      <td>Harvard Park</td>\n",
       "      <td>Death</td>\n",
       "      <td>-118.304741</td>\n",
       "      <td>33.985667</td>\n",
       "      <td>Vivian Austin, an 87-year-old black woman, die...</td>\n",
       "      <td>Vivian Austin, an 87-year-old black woman, die...</td>\n",
       "    </tr>\n",
       "  </tbody>\n",
       "</table>\n",
       "</div>"
      ],
      "text/plain": [
       "      first     last         Full Name   Solved* Age  Gender     Race  \\\n",
       "0  Cesar A.  Aguilar  Cesar A. Aguilar  Unsolved  18    Male   Latino   \n",
       "1    George  Alvarez    George Alvarez  Unsolved  42    Male   Latino   \n",
       "2   Wilson   Alvarez   Wilson  Alvarez  Unsolved  40    Male   Latino   \n",
       "3  Brian E.   Andrew   Brian E. Andrew  Unsolved  30    Male    Black   \n",
       "4   Vivian    Austin    Vivian  Austin  Unsolved  87  Female    Black   \n",
       "\n",
       "          Date                       Address  Neighborhood  \\\n",
       "0   1992-04-30               2009 W. 6th St.      Westlake   \n",
       "1   1992-05-01        Main & College streets     Chinatown   \n",
       "2   1992-05-23           3100 Rosecrans Ave.     Hawthorne   \n",
       "3   1992-04-30   Rosecrans & Chester avenues       Compton   \n",
       "4     5/3/1992              1600 W. 60th St.  Harvard Park   \n",
       "\n",
       "                      status         lat        lon  \\\n",
       "0  Officer involved shooting -118.273976  34.059281   \n",
       "1           Not riot-related -118.234098  34.062690   \n",
       "2                   Homicide -118.326816  33.901662   \n",
       "3  Officer involved shooting -118.215390  33.903457   \n",
       "4                      Death -118.304741  33.985667   \n",
       "\n",
       "                                     Map Description  \\\n",
       "0  Cesar Aguilar, an 18-year-old Latino, was shot...   \n",
       "1  George Alvarez, a 42-year-old Latino, died Fri...   \n",
       "2  Wilson Alvarez, a 40-year-old Latino, died of ...   \n",
       "3  Brian E. Andrew, a 30-year-old black man, was ...   \n",
       "4  Vivian Austin, an 87-year-old black woman, die...   \n",
       "\n",
       "                                               Story  \n",
       "0  Cesar Aguilar, an 18-year-old Latino, was shot...  \n",
       "1  George Alvarez, a 42-year-old Latino, died Fri...  \n",
       "2  Wilson Alvarez, a 40-year-old Latino, died of ...  \n",
       "3  Brian E. Andrew, a 30-year-old black man, was ...  \n",
       "4  Vivian Austin, an 87-year-old black woman, die...  "
      ]
     },
     "execution_count": 21,
     "metadata": {},
     "output_type": "execute_result"
    }
   ],
   "source": [
    "data.head()"
   ]
  },
  {
   "cell_type": "code",
   "execution_count": 22,
   "metadata": {},
   "outputs": [
    {
     "data": {
      "text/html": [
       "<div>\n",
       "<style scoped>\n",
       "    .dataframe tbody tr th:only-of-type {\n",
       "        vertical-align: middle;\n",
       "    }\n",
       "\n",
       "    .dataframe tbody tr th {\n",
       "        vertical-align: top;\n",
       "    }\n",
       "\n",
       "    .dataframe thead th {\n",
       "        text-align: right;\n",
       "    }\n",
       "</style>\n",
       "<table border=\"1\" class=\"dataframe\">\n",
       "  <thead>\n",
       "    <tr style=\"text-align: right;\">\n",
       "      <th></th>\n",
       "      <th>lat</th>\n",
       "      <th>lon</th>\n",
       "    </tr>\n",
       "  </thead>\n",
       "  <tbody>\n",
       "    <tr>\n",
       "      <td>count</td>\n",
       "      <td>63.000000</td>\n",
       "      <td>63.000000</td>\n",
       "    </tr>\n",
       "    <tr>\n",
       "      <td>mean</td>\n",
       "      <td>-118.280793</td>\n",
       "      <td>34.027561</td>\n",
       "    </tr>\n",
       "    <tr>\n",
       "      <td>std</td>\n",
       "      <td>0.104965</td>\n",
       "      <td>0.098241</td>\n",
       "    </tr>\n",
       "    <tr>\n",
       "      <td>min</td>\n",
       "      <td>-118.471745</td>\n",
       "      <td>33.789858</td>\n",
       "    </tr>\n",
       "    <tr>\n",
       "      <td>25%</td>\n",
       "      <td>-118.309913</td>\n",
       "      <td>33.971686</td>\n",
       "    </tr>\n",
       "    <tr>\n",
       "      <td>50%</td>\n",
       "      <td>-118.291495</td>\n",
       "      <td>34.020622</td>\n",
       "    </tr>\n",
       "    <tr>\n",
       "      <td>75%</td>\n",
       "      <td>-118.254026</td>\n",
       "      <td>34.069612</td>\n",
       "    </tr>\n",
       "    <tr>\n",
       "      <td>max</td>\n",
       "      <td>-117.730647</td>\n",
       "      <td>34.287098</td>\n",
       "    </tr>\n",
       "  </tbody>\n",
       "</table>\n",
       "</div>"
      ],
      "text/plain": [
       "              lat        lon\n",
       "count   63.000000  63.000000\n",
       "mean  -118.280793  34.027561\n",
       "std      0.104965   0.098241\n",
       "min   -118.471745  33.789858\n",
       "25%   -118.309913  33.971686\n",
       "50%   -118.291495  34.020622\n",
       "75%   -118.254026  34.069612\n",
       "max   -117.730647  34.287098"
      ]
     },
     "execution_count": 22,
     "metadata": {},
     "output_type": "execute_result"
    }
   ],
   "source": [
    "data.describe()"
   ]
  },
  {
   "cell_type": "code",
   "execution_count": 23,
   "metadata": {},
   "outputs": [
    {
     "data": {
      "text/plain": [
       "(63, 15)"
      ]
     },
     "execution_count": 23,
     "metadata": {},
     "output_type": "execute_result"
    }
   ],
   "source": [
    "data.shape"
   ]
  },
  {
   "cell_type": "code",
   "execution_count": 24,
   "metadata": {},
   "outputs": [
    {
     "data": {
      "text/plain": [
       "Index(['first', 'last', 'Full Name', 'Solved*', 'Age', 'Gender', 'Race',\n",
       "       'Date', 'Address', 'Neighborhood', 'status', 'lat', 'lon',\n",
       "       'Map Description', 'Story'],\n",
       "      dtype='object')"
      ]
     },
     "execution_count": 24,
     "metadata": {},
     "output_type": "execute_result"
    }
   ],
   "source": [
    "## check the columns\n",
    "data.columns"
   ]
  },
  {
   "cell_type": "markdown",
   "metadata": {},
   "source": [
    "## Visualization"
   ]
  },
  {
   "cell_type": "code",
   "execution_count": 29,
   "metadata": {},
   "outputs": [
    {
     "data": {
      "text/plain": [
       "<matplotlib.axes._subplots.AxesSubplot at 0x16c3b251148>"
      ]
     },
     "execution_count": 29,
     "metadata": {},
     "output_type": "execute_result"
    },
    {
     "data": {
      "image/png": "[encoded data removed]",
      "text/plain": [
       "<Figure size 432x288 with 1 Axes>"
      ]
     },
     "metadata": {},
     "output_type": "display_data"
    }
   ],
   "source": [
    "## who died the most male or female\n",
    "sns.countplot(data[\"Gender\"])"
   ]
  },
  {
   "cell_type": "code",
   "execution_count": 30,
   "metadata": {},
   "outputs": [
    {
     "data": {
      "text/plain": [
       "<matplotlib.axes._subplots.AxesSubplot at 0x16c3a8c7888>"
      ]
     },
     "execution_count": 30,
     "metadata": {},
     "output_type": "execute_result"
    },
    {
     "data": {
      "image/png": "[encoded data removed]",
      "text/plain": [
       "<Figure size 432x288 with 1 Axes>"
      ]
     },
     "metadata": {},
     "output_type": "display_data"
    }
   ],
   "source": [
    "## who died most male or female\n",
    "sns.countplot(data[\"Race\"],hue=data[\"Gender\"])"
   ]
  },
  {
   "cell_type": "code",
   "execution_count": 35,
   "metadata": {},
   "outputs": [
    {
     "data": {
      "text/plain": [
       "<matplotlib.axes._subplots.AxesSubplot at 0x16c3ac6d8c8>"
      ]
     },
     "execution_count": 35,
     "metadata": {},
     "output_type": "execute_result"
    },
    {
     "data": {
      "image/png": "[encoded data removed]",
      "text/plain": [
       "<Figure size 432x288 with 1 Axes>"
      ]
     },
     "metadata": {},
     "output_type": "display_data"
    }
   ],
   "source": [
    "data[\"Race\"].value_counts().plot(kind=\"bar\")"
   ]
  },
  {
   "cell_type": "code",
   "execution_count": null,
   "metadata": {},
   "outputs": [],
   "source": [
    "## for double words showing when visualizing \n",
    "new race = data.race.map(lambda p:p.replace(\"\", \"\"))"
   ]
  },
  {
   "cell_type": "code",
   "execution_count": null,
   "metadata": {},
   "outputs": [],
   "source": []
  },
  {
   "cell_type": "code",
   "execution_count": null,
   "metadata": {},
   "outputs": [],
   "source": []
  },
  {
   "cell_type": "code",
   "execution_count": null,
   "metadata": {},
   "outputs": [],
   "source": []
  }
 ],
 "metadata": {
  "kernelspec": {
   "display_name": "Python 3",
   "language": "python",
   "name": "python3"
  },
  "language_info": {
   "codemirror_mode": {
    "name": "ipython",
    "version": 3
   },
   "file_extension": ".py",
   "mimetype": "text/x-python",
   "name": "python",
   "nbconvert_exporter": "python",
   "pygments_lexer": "ipython3",
   "version": "3.7.4"
  }
 },
 "nbformat": 4,
 "nbformat_minor": 2
}
